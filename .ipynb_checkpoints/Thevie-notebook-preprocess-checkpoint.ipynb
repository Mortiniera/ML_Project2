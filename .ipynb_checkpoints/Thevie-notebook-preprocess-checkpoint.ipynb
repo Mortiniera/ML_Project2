{
 "cells": [
  {
   "cell_type": "code",
   "execution_count": 1,
   "metadata": {},
   "outputs": [
    {
     "name": "stderr",
     "output_type": "stream",
     "text": [
      "C:\\Anaconda\\envs\\ada\\lib\\site-packages\\requests\\__init__.py:91: RequestsDependencyWarning: urllib3 (1.24) or chardet (3.0.4) doesn't match a supported version!\n",
      "  RequestsDependencyWarning)\n"
     ]
    }
   ],
   "source": [
    "import nltk\n",
    "import pandas as pd\n",
    "import numpy as np\n",
    "import matplotlib.pyplot as plt\n",
    "import seaborn as sns\n",
    "import random\n",
    "from collections import Counter \n",
    "from matplotlib.colors import ListedColormap\n",
    "import json\n",
    "import folium\n",
    "%matplotlib inline\n",
    "pth = r\"C:\\EPFL\\2018-2019\\nltk_data\" #change location according to your nltk data path\n",
    "nltk.data.path.append(pth)\n",
    "sns.set()"
   ]
  },
  {
   "cell_type": "code",
   "execution_count": 2,
   "metadata": {},
   "outputs": [],
   "source": [
    "tokenizer = nltk.tokenize.RegexpTokenizer(r'\\w+')\n",
    "stopwords = ''\n",
    "with open('stopw.txt') as f:\n",
    "        # return the split results, which is all the words in the file.\n",
    "        stopwords = f.read().split()"
   ]
  },
  {
   "cell_type": "markdown",
   "metadata": {},
   "source": [
    "### helper functions"
   ]
  },
  {
   "cell_type": "code",
   "execution_count": 3,
   "metadata": {},
   "outputs": [],
   "source": [
    "wordnet_lemmatizer = nltk.stem.WordNetLemmatizer()\n",
    "\n",
    "def tokenization(t) : \n",
    "    return tokenizer.tokenize(t)\n",
    "\n",
    "def remove_all(to_filter, seq) :\n",
    "    l = list(filter(lambda x : x not in seq, to_filter))\n",
    "    l = list(filter(lambda x : not x.isdigit(), l))\n",
    "    l = ['lol' if x=='ll' else x for x in l] \n",
    "    return l\n",
    "\n",
    "def to_string(l) :\n",
    "    s = ''\n",
    "    for x in l :\n",
    "        s += x + ' '\n",
    "    return s\n",
    "\n",
    "def word_freq_in_tweet(tw) :\n",
    "    tweet = to_string(tw)\n",
    "    return Counter(tweet.split())"
   ]
  },
  {
   "cell_type": "markdown",
   "metadata": {},
   "source": [
    "### Import datasets"
   ]
  },
  {
   "cell_type": "code",
   "execution_count": 4,
   "metadata": {},
   "outputs": [],
   "source": [
    "data_folder = 'twitter-datasets'"
   ]
  },
  {
   "cell_type": "code",
   "execution_count": 5,
   "metadata": {},
   "outputs": [],
   "source": [
    "train_pos = pd.read_table(data_folder + '/train_pos.txt', header =None, names=['text'], sep='\\n')\n",
    "train_pos['label'] = 'positive'\n",
    "train_neg = pd.read_table(data_folder + '/train_neg.txt', header =None, names=['text'], sep='\\n')\n",
    "train_neg['label'] = 'negative'"
   ]
  },
  {
   "cell_type": "code",
   "execution_count": 6,
   "metadata": {},
   "outputs": [
    {
     "name": "stdout",
     "output_type": "stream",
     "text": [
      "There are 97718 positive tweets and 98954 negative tweets\n"
     ]
    }
   ],
   "source": [
    "print('There are {} positive tweets and {} negative tweets'.format(train_pos.shape[0], train_neg.shape[0]))"
   ]
  },
  {
   "cell_type": "markdown",
   "metadata": {},
   "source": [
    "**Preprocessing : create an unbiased tweets dataset, split tweets in list of words, remove stopwords and lemmatize**"
   ]
  },
  {
   "cell_type": "code",
   "execution_count": 7,
   "metadata": {},
   "outputs": [
    {
     "data": {
      "text/html": [
       "<div>\n",
       "<style scoped>\n",
       "    .dataframe tbody tr th:only-of-type {\n",
       "        vertical-align: middle;\n",
       "    }\n",
       "\n",
       "    .dataframe tbody tr th {\n",
       "        vertical-align: top;\n",
       "    }\n",
       "\n",
       "    .dataframe thead th {\n",
       "        text-align: right;\n",
       "    }\n",
       "</style>\n",
       "<table border=\"1\" class=\"dataframe\">\n",
       "  <thead>\n",
       "    <tr style=\"text-align: right;\">\n",
       "      <th></th>\n",
       "      <th>0</th>\n",
       "      <th>1</th>\n",
       "    </tr>\n",
       "  </thead>\n",
       "  <tbody>\n",
       "    <tr>\n",
       "      <th>0</th>\n",
       "      <td>[no, haven, met]</td>\n",
       "      <td>negative</td>\n",
       "    </tr>\n",
       "    <tr>\n",
       "      <th>1</th>\n",
       "      <td>[boyfriend, sooo, felt, like, cry, wait, till,...</td>\n",
       "      <td>negative</td>\n",
       "    </tr>\n",
       "    <tr>\n",
       "      <th>2</th>\n",
       "      <td>[fair, lucky, youu]</td>\n",
       "      <td>negative</td>\n",
       "    </tr>\n",
       "    <tr>\n",
       "      <th>3</th>\n",
       "      <td>[hey, smile, kiss, ugh, gtg, no, wifi]</td>\n",
       "      <td>negative</td>\n",
       "    </tr>\n",
       "    <tr>\n",
       "      <th>4</th>\n",
       "      <td>[talk]</td>\n",
       "      <td>positive</td>\n",
       "    </tr>\n",
       "  </tbody>\n",
       "</table>\n",
       "</div>"
      ],
      "text/plain": [
       "                                                   0         1\n",
       "0                                   [no, haven, met]  negative\n",
       "1  [boyfriend, sooo, felt, like, cry, wait, till,...  negative\n",
       "2                                [fair, lucky, youu]  negative\n",
       "3             [hey, smile, kiss, ugh, gtg, no, wifi]  negative\n",
       "4                                             [talk]  positive"
      ]
     },
     "execution_count": 7,
     "metadata": {},
     "output_type": "execute_result"
    }
   ],
   "source": [
    "t = pd.concat([train_neg, train_pos]) #merge positive and negative tweets\n",
    "t = t.sample(frac=1).reset_index(drop=True) #shuffle the datas\n",
    "t = pd.DataFrame(t.apply(lambda row : pd.Series([tokenization(row[0]), row[1]]), axis=1)) #split tweets in list of words\n",
    "t = pd.DataFrame(t.apply(lambda row : pd.Series([remove_all(row[0], stopwords), row[1]]), axis=1)) #remove stopwords\n",
    "t = pd.DataFrame(t.apply(lambda row : pd.Series([[wordnet_lemmatizer.lemmatize(x) for x in row[0]], row[1]]), axis=1)) #lemmatize\n",
    "t.head()"
   ]
  },
  {
   "cell_type": "code",
   "execution_count": 8,
   "metadata": {},
   "outputs": [],
   "source": [
    "t.columns = ['text', 'labels']"
   ]
  },
  {
   "cell_type": "markdown",
   "metadata": {},
   "source": [
    "### Fixed variables"
   ]
  },
  {
   "cell_type": "code",
   "execution_count": 9,
   "metadata": {},
   "outputs": [],
   "source": [
    "N = t.shape[0]"
   ]
  },
  {
   "cell_type": "markdown",
   "metadata": {},
   "source": [
    "## Feature engineering"
   ]
  },
  {
   "cell_type": "markdown",
   "metadata": {},
   "source": [
    "**From attributes to features**"
   ]
  },
  {
   "cell_type": "markdown",
   "metadata": {},
   "source": [
    "1) Get frequencies of words in each twet"
   ]
  },
  {
   "cell_type": "code",
   "execution_count": 10,
   "metadata": {},
   "outputs": [],
   "source": [
    "t['tweet_Freq'] = t.apply(lambda row : pd.Series([word_freq_in_tweet(row[0])]), axis=1)"
   ]
  },
  {
   "cell_type": "code",
   "execution_count": 11,
   "metadata": {},
   "outputs": [
    {
     "data": {
      "text/html": [
       "<div>\n",
       "<style scoped>\n",
       "    .dataframe tbody tr th:only-of-type {\n",
       "        vertical-align: middle;\n",
       "    }\n",
       "\n",
       "    .dataframe tbody tr th {\n",
       "        vertical-align: top;\n",
       "    }\n",
       "\n",
       "    .dataframe thead th {\n",
       "        text-align: right;\n",
       "    }\n",
       "</style>\n",
       "<table border=\"1\" class=\"dataframe\">\n",
       "  <thead>\n",
       "    <tr style=\"text-align: right;\">\n",
       "      <th></th>\n",
       "      <th>text</th>\n",
       "      <th>labels</th>\n",
       "      <th>tweet_Freq</th>\n",
       "    </tr>\n",
       "  </thead>\n",
       "  <tbody>\n",
       "    <tr>\n",
       "      <th>0</th>\n",
       "      <td>[no, haven, met]</td>\n",
       "      <td>negative</td>\n",
       "      <td>{'no': 1, 'haven': 1, 'met': 1}</td>\n",
       "    </tr>\n",
       "    <tr>\n",
       "      <th>1</th>\n",
       "      <td>[boyfriend, sooo, felt, like, cry, wait, till,...</td>\n",
       "      <td>negative</td>\n",
       "      <td>{'boyfriend': 1, 'sooo': 1, 'felt': 1, 'like':...</td>\n",
       "    </tr>\n",
       "    <tr>\n",
       "      <th>2</th>\n",
       "      <td>[fair, lucky, youu]</td>\n",
       "      <td>negative</td>\n",
       "      <td>{'fair': 1, 'lucky': 1, 'youu': 1}</td>\n",
       "    </tr>\n",
       "    <tr>\n",
       "      <th>3</th>\n",
       "      <td>[hey, smile, kiss, ugh, gtg, no, wifi]</td>\n",
       "      <td>negative</td>\n",
       "      <td>{'hey': 1, 'smile': 1, 'kiss': 1, 'ugh': 1, 'g...</td>\n",
       "    </tr>\n",
       "    <tr>\n",
       "      <th>4</th>\n",
       "      <td>[talk]</td>\n",
       "      <td>positive</td>\n",
       "      <td>{'talk': 1}</td>\n",
       "    </tr>\n",
       "  </tbody>\n",
       "</table>\n",
       "</div>"
      ],
      "text/plain": [
       "                                                text    labels  \\\n",
       "0                                   [no, haven, met]  negative   \n",
       "1  [boyfriend, sooo, felt, like, cry, wait, till,...  negative   \n",
       "2                                [fair, lucky, youu]  negative   \n",
       "3             [hey, smile, kiss, ugh, gtg, no, wifi]  negative   \n",
       "4                                             [talk]  positive   \n",
       "\n",
       "                                          tweet_Freq  \n",
       "0                    {'no': 1, 'haven': 1, 'met': 1}  \n",
       "1  {'boyfriend': 1, 'sooo': 1, 'felt': 1, 'like':...  \n",
       "2                 {'fair': 1, 'lucky': 1, 'youu': 1}  \n",
       "3  {'hey': 1, 'smile': 1, 'kiss': 1, 'ugh': 1, 'g...  \n",
       "4                                        {'talk': 1}  "
      ]
     },
     "execution_count": 11,
     "metadata": {},
     "output_type": "execute_result"
    }
   ],
   "source": [
    "t.head()"
   ]
  },
  {
   "cell_type": "markdown",
   "metadata": {},
   "source": [
    "2) Get frequencies of words in all corpus"
   ]
  },
  {
   "cell_type": "code",
   "execution_count": 12,
   "metadata": {},
   "outputs": [],
   "source": [
    "corpus = ''\n",
    "for i in range(N) :\n",
    "    tw = t.iloc[i, 0]\n",
    "    corpus += to_string(tw)\n",
    "    \n",
    "corpus = Counter(corpus.split())\n",
    "d_corpus = pd.DataFrame(list(corpus.items()), columns=['word', 'occurences'])\n",
    "d_corpus = d_corpus.sort_values(by='occurences', ascending=False)"
   ]
  },
  {
   "cell_type": "markdown",
   "metadata": {},
   "source": [
    "Look distribution of words occurences and get top 25 words"
   ]
  },
  {
   "cell_type": "code",
   "execution_count": 17,
   "metadata": {
    "scrolled": true
   },
   "outputs": [
    {
     "data": {
      "text/plain": [
       "<matplotlib.axes._subplots.AxesSubplot at 0x28e666e6940>"
      ]
     },
     "execution_count": 17,
     "metadata": {},
     "output_type": "execute_result"
    },
    {
     "data": {
      "image/png": "[encoded data removed]",
      "text/plain": [
       "<Figure size 432x288 with 1 Axes>"
      ]
     },
     "metadata": {
      "needs_background": "light"
     },
     "output_type": "display_data"
    }
   ],
   "source": [
    "top25 = d_corpus.head(25)\n",
    "top25.plot(kind='bar', x='word', y='occurences')"
   ]
  },
  {
   "cell_type": "code",
   "execution_count": 162,
   "metadata": {},
   "outputs": [
    {
     "data": {
      "text/html": [
       "<div>\n",
       "<style scoped>\n",
       "    .dataframe tbody tr th:only-of-type {\n",
       "        vertical-align: middle;\n",
       "    }\n",
       "\n",
       "    .dataframe tbody tr th {\n",
       "        vertical-align: top;\n",
       "    }\n",
       "\n",
       "    .dataframe thead th {\n",
       "        text-align: right;\n",
       "    }\n",
       "</style>\n",
       "<table border=\"1\" class=\"dataframe\">\n",
       "  <thead>\n",
       "    <tr style=\"text-align: right;\">\n",
       "      <th></th>\n",
       "      <th>labels</th>\n",
       "      <th>tweet_Freq</th>\n",
       "    </tr>\n",
       "  </thead>\n",
       "  <tbody>\n",
       "    <tr>\n",
       "      <th>0</th>\n",
       "      <td>negative</td>\n",
       "      <td>{'no': 1, 'haven': 1, 'met': 1}</td>\n",
       "    </tr>\n",
       "    <tr>\n",
       "      <th>1</th>\n",
       "      <td>negative</td>\n",
       "      <td>{'boyfriend': 1, 'sooo': 1, 'felt': 1, 'like':...</td>\n",
       "    </tr>\n",
       "    <tr>\n",
       "      <th>2</th>\n",
       "      <td>negative</td>\n",
       "      <td>{'fair': 1, 'lucky': 1, 'youu': 1}</td>\n",
       "    </tr>\n",
       "    <tr>\n",
       "      <th>3</th>\n",
       "      <td>negative</td>\n",
       "      <td>{'hey': 1, 'smile': 1, 'kiss': 1, 'ugh': 1, 'g...</td>\n",
       "    </tr>\n",
       "    <tr>\n",
       "      <th>4</th>\n",
       "      <td>positive</td>\n",
       "      <td>{'talk': 1}</td>\n",
       "    </tr>\n",
       "  </tbody>\n",
       "</table>\n",
       "</div>"
      ],
      "text/plain": [
       "     labels                                         tweet_Freq\n",
       "0  negative                    {'no': 1, 'haven': 1, 'met': 1}\n",
       "1  negative  {'boyfriend': 1, 'sooo': 1, 'felt': 1, 'like':...\n",
       "2  negative                 {'fair': 1, 'lucky': 1, 'youu': 1}\n",
       "3  negative  {'hey': 1, 'smile': 1, 'kiss': 1, 'ugh': 1, 'g...\n",
       "4  positive                                        {'talk': 1}"
      ]
     },
     "execution_count": 162,
     "metadata": {},
     "output_type": "execute_result"
    }
   ],
   "source": [
    "tweets = t[['labels', 'tweet_Freq']]\n",
    "tweets.head()"
   ]
  },
  {
   "cell_type": "markdown",
   "metadata": {},
   "source": [
    "**Feature Creation Strategy**"
   ]
  },
  {
   "cell_type": "markdown",
   "metadata": {},
   "source": [
    "We don't need to high freq n-grams and low-freq n-grams (stop-words and typos), otherwise we will overfit.\n",
    "Hence keep medium frequency n-grams. which one are good ?\n",
    "The n-gram with smaller freq can be more discriminating bc it can capture a specific issue in the tweet. \n",
    "\n",
    "In order to capture this idea, we will use TF-IDF\n",
    " \n",
    "TERM FREQUENCY (tf)\n",
    "tf(t, d) : token freq in tweet d\n",
    "Use either term freq : f(t, d) / sum(f(t', d)) OR log normalization 1 + log(f(t, d)) with f(t,d) being the raw count of t in d.\n",
    "\n",
    "\n",
    "INVERSE DOCUMENT FREQUENCY (IDF)\n",
    "idf(t, D) = log(N / number of docs (tweets for us) where t appears) with N = number of docs in corpus (number of tweets ) \n",
    "\n",
    "TF-IDF VALUE\n",
    "tfidf(t, d, D) = tf(t, d) * idf(t, D)\n",
    "high weight is reached by high term freq and low doc freq of the term in whole corpus.\n",
    "IDEA : find frequent terms in tweets that are not so frequent in whole data set.\n",
    "So replace counters with TF-IDF and normalize results row-wise (divide by L2 norm)\n"
   ]
  },
  {
   "cell_type": "markdown",
   "metadata": {},
   "source": [
    "**Helper Functions**"
   ]
  },
  {
   "cell_type": "code",
   "execution_count": 209,
   "metadata": {},
   "outputs": [],
   "source": [
    "def raw_freq(word, tweet_f) :\n",
    "    r = tweet_f.get(word)\n",
    "    return 0 if r == None else r\n",
    "    \n",
    "\n",
    "def term_frequency(t, d) : \n",
    "    return np.log(1 + raw_freq(t, d))\n",
    "\n",
    "term_doc_occurences = {}\n",
    "\n",
    "def inverse_doc_frequency(t, df) :\n",
    "    number_of_docs = df.shape[0] #number of tweets in corpus \n",
    "    count = 0 #count number of tweets where t appears\n",
    "    \n",
    "    v = term_doc_occurences.get(t) #lookup in database\n",
    "    \n",
    "    if(v == None) : #if this term is not yet registered in database\n",
    "        for i in range(N) :\n",
    "            count += 1 if (raw_freq(t, df.iloc[i, 1]) > 0) else 0\n",
    "        term_doc_occurences[t] = count #update database\n",
    "    else :\n",
    "        count = v       \n",
    "        \n",
    "    return np.log(number_of_docs/count)\n",
    "\n",
    "def tf_idf(t, d, df) :\n",
    "    return term_frequency(t, d) * inverse_doc_frequency(t, df)"
   ]
  },
  {
   "cell_type": "markdown",
   "metadata": {},
   "source": [
    "**Next we will create a dataframe with 25 features representing the tf-idf value of the top 25 words computed earlier**"
   ]
  },
  {
   "cell_type": "code",
   "execution_count": 247,
   "metadata": {},
   "outputs": [],
   "source": [
    "training_data = tweets[['labels']]\n",
    "to_be_features = list((top25.T).values[0]) "
   ]
  },
  {
   "cell_type": "code",
   "execution_count": 248,
   "metadata": {},
   "outputs": [],
   "source": [
    "for ft in to_be_features : #for each feature\n",
    "    col = []\n",
    "    for i in range(tweets.shape[0]) : #for each row compute tdf-if value\n",
    "        tfidf = tf_idf(ft, tweets.iloc[i, 1], tweets)\n",
    "        col.append(tfidf)\n",
    "    training_data[ft] = pd.Series(col)"
   ]
  },
  {
   "cell_type": "code",
   "execution_count": 249,
   "metadata": {},
   "outputs": [
    {
     "data": {
      "text/html": [
       "<div>\n",
       "<style scoped>\n",
       "    .dataframe tbody tr th:only-of-type {\n",
       "        vertical-align: middle;\n",
       "    }\n",
       "\n",
       "    .dataframe tbody tr th {\n",
       "        vertical-align: top;\n",
       "    }\n",
       "\n",
       "    .dataframe thead th {\n",
       "        text-align: right;\n",
       "    }\n",
       "</style>\n",
       "<table border=\"1\" class=\"dataframe\">\n",
       "  <thead>\n",
       "    <tr style=\"text-align: right;\">\n",
       "      <th></th>\n",
       "      <th>labels</th>\n",
       "      <th>lol</th>\n",
       "      <th>can</th>\n",
       "      <th>love</th>\n",
       "      <th>not</th>\n",
       "      <th>like</th>\n",
       "      <th>day</th>\n",
       "      <th>good</th>\n",
       "      <th>follow</th>\n",
       "      <th>no</th>\n",
       "      <th>...</th>\n",
       "      <th>thank</th>\n",
       "      <th>work</th>\n",
       "      <th>friend</th>\n",
       "      <th>happy</th>\n",
       "      <th>best</th>\n",
       "      <th>night</th>\n",
       "      <th>hope</th>\n",
       "      <th>beautiful</th>\n",
       "      <th>picture</th>\n",
       "      <th>fan</th>\n",
       "    </tr>\n",
       "  </thead>\n",
       "  <tbody>\n",
       "    <tr>\n",
       "      <th>0</th>\n",
       "      <td>negative</td>\n",
       "      <td>0.0</td>\n",
       "      <td>0.0</td>\n",
       "      <td>0.0</td>\n",
       "      <td>0.0</td>\n",
       "      <td>0.000000</td>\n",
       "      <td>0.000000</td>\n",
       "      <td>0.0</td>\n",
       "      <td>0.0</td>\n",
       "      <td>2.341512</td>\n",
       "      <td>...</td>\n",
       "      <td>0.0</td>\n",
       "      <td>0.0</td>\n",
       "      <td>0.0</td>\n",
       "      <td>0.0</td>\n",
       "      <td>0.0</td>\n",
       "      <td>0.0</td>\n",
       "      <td>0.0</td>\n",
       "      <td>0.0</td>\n",
       "      <td>0.0</td>\n",
       "      <td>0.0</td>\n",
       "    </tr>\n",
       "    <tr>\n",
       "      <th>1</th>\n",
       "      <td>negative</td>\n",
       "      <td>0.0</td>\n",
       "      <td>0.0</td>\n",
       "      <td>0.0</td>\n",
       "      <td>0.0</td>\n",
       "      <td>2.147655</td>\n",
       "      <td>2.285466</td>\n",
       "      <td>0.0</td>\n",
       "      <td>0.0</td>\n",
       "      <td>0.000000</td>\n",
       "      <td>...</td>\n",
       "      <td>0.0</td>\n",
       "      <td>0.0</td>\n",
       "      <td>0.0</td>\n",
       "      <td>0.0</td>\n",
       "      <td>0.0</td>\n",
       "      <td>0.0</td>\n",
       "      <td>0.0</td>\n",
       "      <td>0.0</td>\n",
       "      <td>0.0</td>\n",
       "      <td>0.0</td>\n",
       "    </tr>\n",
       "    <tr>\n",
       "      <th>2</th>\n",
       "      <td>negative</td>\n",
       "      <td>0.0</td>\n",
       "      <td>0.0</td>\n",
       "      <td>0.0</td>\n",
       "      <td>0.0</td>\n",
       "      <td>0.000000</td>\n",
       "      <td>0.000000</td>\n",
       "      <td>0.0</td>\n",
       "      <td>0.0</td>\n",
       "      <td>0.000000</td>\n",
       "      <td>...</td>\n",
       "      <td>0.0</td>\n",
       "      <td>0.0</td>\n",
       "      <td>0.0</td>\n",
       "      <td>0.0</td>\n",
       "      <td>0.0</td>\n",
       "      <td>0.0</td>\n",
       "      <td>0.0</td>\n",
       "      <td>0.0</td>\n",
       "      <td>0.0</td>\n",
       "      <td>0.0</td>\n",
       "    </tr>\n",
       "    <tr>\n",
       "      <th>3</th>\n",
       "      <td>negative</td>\n",
       "      <td>0.0</td>\n",
       "      <td>0.0</td>\n",
       "      <td>0.0</td>\n",
       "      <td>0.0</td>\n",
       "      <td>0.000000</td>\n",
       "      <td>0.000000</td>\n",
       "      <td>0.0</td>\n",
       "      <td>0.0</td>\n",
       "      <td>2.341512</td>\n",
       "      <td>...</td>\n",
       "      <td>0.0</td>\n",
       "      <td>0.0</td>\n",
       "      <td>0.0</td>\n",
       "      <td>0.0</td>\n",
       "      <td>0.0</td>\n",
       "      <td>0.0</td>\n",
       "      <td>0.0</td>\n",
       "      <td>0.0</td>\n",
       "      <td>0.0</td>\n",
       "      <td>0.0</td>\n",
       "    </tr>\n",
       "    <tr>\n",
       "      <th>4</th>\n",
       "      <td>positive</td>\n",
       "      <td>0.0</td>\n",
       "      <td>0.0</td>\n",
       "      <td>0.0</td>\n",
       "      <td>0.0</td>\n",
       "      <td>0.000000</td>\n",
       "      <td>0.000000</td>\n",
       "      <td>0.0</td>\n",
       "      <td>0.0</td>\n",
       "      <td>0.000000</td>\n",
       "      <td>...</td>\n",
       "      <td>0.0</td>\n",
       "      <td>0.0</td>\n",
       "      <td>0.0</td>\n",
       "      <td>0.0</td>\n",
       "      <td>0.0</td>\n",
       "      <td>0.0</td>\n",
       "      <td>0.0</td>\n",
       "      <td>0.0</td>\n",
       "      <td>0.0</td>\n",
       "      <td>0.0</td>\n",
       "    </tr>\n",
       "  </tbody>\n",
       "</table>\n",
       "<p>5 rows × 26 columns</p>\n",
       "</div>"
      ],
      "text/plain": [
       "     labels  lol  can  love  not      like       day  good  follow        no  \\\n",
       "0  negative  0.0  0.0   0.0  0.0  0.000000  0.000000   0.0     0.0  2.341512   \n",
       "1  negative  0.0  0.0   0.0  0.0  2.147655  2.285466   0.0     0.0  0.000000   \n",
       "2  negative  0.0  0.0   0.0  0.0  0.000000  0.000000   0.0     0.0  0.000000   \n",
       "3  negative  0.0  0.0   0.0  0.0  0.000000  0.000000   0.0     0.0  2.341512   \n",
       "4  positive  0.0  0.0   0.0  0.0  0.000000  0.000000   0.0     0.0  0.000000   \n",
       "\n",
       "  ...   thank  work  friend  happy  best  night  hope  beautiful  picture  fan  \n",
       "0 ...     0.0   0.0     0.0    0.0   0.0    0.0   0.0        0.0      0.0  0.0  \n",
       "1 ...     0.0   0.0     0.0    0.0   0.0    0.0   0.0        0.0      0.0  0.0  \n",
       "2 ...     0.0   0.0     0.0    0.0   0.0    0.0   0.0        0.0      0.0  0.0  \n",
       "3 ...     0.0   0.0     0.0    0.0   0.0    0.0   0.0        0.0      0.0  0.0  \n",
       "4 ...     0.0   0.0     0.0    0.0   0.0    0.0   0.0        0.0      0.0  0.0  \n",
       "\n",
       "[5 rows x 26 columns]"
      ]
     },
     "execution_count": 249,
     "metadata": {},
     "output_type": "execute_result"
    }
   ],
   "source": [
    "training_data.head()"
   ]
  },
  {
   "cell_type": "markdown",
   "metadata": {},
   "source": [
    "**Finally, we normalize row-wise by L2-norm, encode labels to (positive :+1 and negative :-1) and we have a dataset ready for logistic regression**"
   ]
  },
  {
   "cell_type": "markdown",
   "metadata": {},
   "source": [
    "Encode labels"
   ]
  },
  {
   "cell_type": "code",
   "execution_count": 250,
   "metadata": {},
   "outputs": [],
   "source": [
    "training_data['labels'] = training_data.apply(lambda row : pd.Series([1.0 if row[0] == 'positive' else -1.0]), axis=1)"
   ]
  },
  {
   "cell_type": "code",
   "execution_count": 251,
   "metadata": {},
   "outputs": [
    {
     "data": {
      "text/html": [
       "<div>\n",
       "<style scoped>\n",
       "    .dataframe tbody tr th:only-of-type {\n",
       "        vertical-align: middle;\n",
       "    }\n",
       "\n",
       "    .dataframe tbody tr th {\n",
       "        vertical-align: top;\n",
       "    }\n",
       "\n",
       "    .dataframe thead th {\n",
       "        text-align: right;\n",
       "    }\n",
       "</style>\n",
       "<table border=\"1\" class=\"dataframe\">\n",
       "  <thead>\n",
       "    <tr style=\"text-align: right;\">\n",
       "      <th></th>\n",
       "      <th>labels</th>\n",
       "      <th>lol</th>\n",
       "      <th>can</th>\n",
       "      <th>love</th>\n",
       "      <th>not</th>\n",
       "      <th>like</th>\n",
       "      <th>day</th>\n",
       "      <th>good</th>\n",
       "      <th>follow</th>\n",
       "      <th>no</th>\n",
       "      <th>...</th>\n",
       "      <th>thank</th>\n",
       "      <th>work</th>\n",
       "      <th>friend</th>\n",
       "      <th>happy</th>\n",
       "      <th>best</th>\n",
       "      <th>night</th>\n",
       "      <th>hope</th>\n",
       "      <th>beautiful</th>\n",
       "      <th>picture</th>\n",
       "      <th>fan</th>\n",
       "    </tr>\n",
       "  </thead>\n",
       "  <tbody>\n",
       "    <tr>\n",
       "      <th>0</th>\n",
       "      <td>-1.0</td>\n",
       "      <td>0.0</td>\n",
       "      <td>0.0</td>\n",
       "      <td>0.0</td>\n",
       "      <td>0.0</td>\n",
       "      <td>0.000000</td>\n",
       "      <td>0.000000</td>\n",
       "      <td>0.0</td>\n",
       "      <td>0.0</td>\n",
       "      <td>2.341512</td>\n",
       "      <td>...</td>\n",
       "      <td>0.0</td>\n",
       "      <td>0.0</td>\n",
       "      <td>0.0</td>\n",
       "      <td>0.0</td>\n",
       "      <td>0.0</td>\n",
       "      <td>0.0</td>\n",
       "      <td>0.0</td>\n",
       "      <td>0.0</td>\n",
       "      <td>0.0</td>\n",
       "      <td>0.0</td>\n",
       "    </tr>\n",
       "    <tr>\n",
       "      <th>1</th>\n",
       "      <td>-1.0</td>\n",
       "      <td>0.0</td>\n",
       "      <td>0.0</td>\n",
       "      <td>0.0</td>\n",
       "      <td>0.0</td>\n",
       "      <td>2.147655</td>\n",
       "      <td>2.285466</td>\n",
       "      <td>0.0</td>\n",
       "      <td>0.0</td>\n",
       "      <td>0.000000</td>\n",
       "      <td>...</td>\n",
       "      <td>0.0</td>\n",
       "      <td>0.0</td>\n",
       "      <td>0.0</td>\n",
       "      <td>0.0</td>\n",
       "      <td>0.0</td>\n",
       "      <td>0.0</td>\n",
       "      <td>0.0</td>\n",
       "      <td>0.0</td>\n",
       "      <td>0.0</td>\n",
       "      <td>0.0</td>\n",
       "    </tr>\n",
       "    <tr>\n",
       "      <th>2</th>\n",
       "      <td>-1.0</td>\n",
       "      <td>0.0</td>\n",
       "      <td>0.0</td>\n",
       "      <td>0.0</td>\n",
       "      <td>0.0</td>\n",
       "      <td>0.000000</td>\n",
       "      <td>0.000000</td>\n",
       "      <td>0.0</td>\n",
       "      <td>0.0</td>\n",
       "      <td>0.000000</td>\n",
       "      <td>...</td>\n",
       "      <td>0.0</td>\n",
       "      <td>0.0</td>\n",
       "      <td>0.0</td>\n",
       "      <td>0.0</td>\n",
       "      <td>0.0</td>\n",
       "      <td>0.0</td>\n",
       "      <td>0.0</td>\n",
       "      <td>0.0</td>\n",
       "      <td>0.0</td>\n",
       "      <td>0.0</td>\n",
       "    </tr>\n",
       "    <tr>\n",
       "      <th>3</th>\n",
       "      <td>-1.0</td>\n",
       "      <td>0.0</td>\n",
       "      <td>0.0</td>\n",
       "      <td>0.0</td>\n",
       "      <td>0.0</td>\n",
       "      <td>0.000000</td>\n",
       "      <td>0.000000</td>\n",
       "      <td>0.0</td>\n",
       "      <td>0.0</td>\n",
       "      <td>2.341512</td>\n",
       "      <td>...</td>\n",
       "      <td>0.0</td>\n",
       "      <td>0.0</td>\n",
       "      <td>0.0</td>\n",
       "      <td>0.0</td>\n",
       "      <td>0.0</td>\n",
       "      <td>0.0</td>\n",
       "      <td>0.0</td>\n",
       "      <td>0.0</td>\n",
       "      <td>0.0</td>\n",
       "      <td>0.0</td>\n",
       "    </tr>\n",
       "    <tr>\n",
       "      <th>4</th>\n",
       "      <td>1.0</td>\n",
       "      <td>0.0</td>\n",
       "      <td>0.0</td>\n",
       "      <td>0.0</td>\n",
       "      <td>0.0</td>\n",
       "      <td>0.000000</td>\n",
       "      <td>0.000000</td>\n",
       "      <td>0.0</td>\n",
       "      <td>0.0</td>\n",
       "      <td>0.000000</td>\n",
       "      <td>...</td>\n",
       "      <td>0.0</td>\n",
       "      <td>0.0</td>\n",
       "      <td>0.0</td>\n",
       "      <td>0.0</td>\n",
       "      <td>0.0</td>\n",
       "      <td>0.0</td>\n",
       "      <td>0.0</td>\n",
       "      <td>0.0</td>\n",
       "      <td>0.0</td>\n",
       "      <td>0.0</td>\n",
       "    </tr>\n",
       "  </tbody>\n",
       "</table>\n",
       "<p>5 rows × 26 columns</p>\n",
       "</div>"
      ],
      "text/plain": [
       "   labels  lol  can  love  not      like       day  good  follow        no  \\\n",
       "0    -1.0  0.0  0.0   0.0  0.0  0.000000  0.000000   0.0     0.0  2.341512   \n",
       "1    -1.0  0.0  0.0   0.0  0.0  2.147655  2.285466   0.0     0.0  0.000000   \n",
       "2    -1.0  0.0  0.0   0.0  0.0  0.000000  0.000000   0.0     0.0  0.000000   \n",
       "3    -1.0  0.0  0.0   0.0  0.0  0.000000  0.000000   0.0     0.0  2.341512   \n",
       "4     1.0  0.0  0.0   0.0  0.0  0.000000  0.000000   0.0     0.0  0.000000   \n",
       "\n",
       "  ...   thank  work  friend  happy  best  night  hope  beautiful  picture  fan  \n",
       "0 ...     0.0   0.0     0.0    0.0   0.0    0.0   0.0        0.0      0.0  0.0  \n",
       "1 ...     0.0   0.0     0.0    0.0   0.0    0.0   0.0        0.0      0.0  0.0  \n",
       "2 ...     0.0   0.0     0.0    0.0   0.0    0.0   0.0        0.0      0.0  0.0  \n",
       "3 ...     0.0   0.0     0.0    0.0   0.0    0.0   0.0        0.0      0.0  0.0  \n",
       "4 ...     0.0   0.0     0.0    0.0   0.0    0.0   0.0        0.0      0.0  0.0  \n",
       "\n",
       "[5 rows x 26 columns]"
      ]
     },
     "execution_count": 251,
     "metadata": {},
     "output_type": "execute_result"
    }
   ],
   "source": [
    "training_data.head()"
   ]
  },
  {
   "cell_type": "markdown",
   "metadata": {},
   "source": [
    "Normalize rows"
   ]
  },
  {
   "cell_type": "code",
   "execution_count": 320,
   "metadata": {},
   "outputs": [],
   "source": [
    "def normalize(row) :\n",
    "        vec_norm = np.sqrt(np.sum([x*x for x in row]))\n",
    "        return [0 if vec_norm == 0 else (x / vec_norm) for x in row ]"
   ]
  },
  {
   "cell_type": "code",
   "execution_count": 319,
   "metadata": {},
   "outputs": [],
   "source": [
    "training_data = training_data.apply(lambda row : pd.Series([row[0]] + normalize(row[1:])), axis=1)"
   ]
  },
  {
   "cell_type": "code",
   "execution_count": 322,
   "metadata": {},
   "outputs": [],
   "source": [
    "training_data.columns = ['label'] + to_be_features"
   ]
  },
  {
   "cell_type": "code",
   "execution_count": 323,
   "metadata": {},
   "outputs": [
    {
     "data": {
      "text/html": [
       "<div>\n",
       "<style scoped>\n",
       "    .dataframe tbody tr th:only-of-type {\n",
       "        vertical-align: middle;\n",
       "    }\n",
       "\n",
       "    .dataframe tbody tr th {\n",
       "        vertical-align: top;\n",
       "    }\n",
       "\n",
       "    .dataframe thead th {\n",
       "        text-align: right;\n",
       "    }\n",
       "</style>\n",
       "<table border=\"1\" class=\"dataframe\">\n",
       "  <thead>\n",
       "    <tr style=\"text-align: right;\">\n",
       "      <th></th>\n",
       "      <th>label</th>\n",
       "      <th>lol</th>\n",
       "      <th>can</th>\n",
       "      <th>love</th>\n",
       "      <th>not</th>\n",
       "      <th>like</th>\n",
       "      <th>day</th>\n",
       "      <th>good</th>\n",
       "      <th>follow</th>\n",
       "      <th>no</th>\n",
       "      <th>...</th>\n",
       "      <th>thank</th>\n",
       "      <th>work</th>\n",
       "      <th>friend</th>\n",
       "      <th>happy</th>\n",
       "      <th>best</th>\n",
       "      <th>night</th>\n",
       "      <th>hope</th>\n",
       "      <th>beautiful</th>\n",
       "      <th>picture</th>\n",
       "      <th>fan</th>\n",
       "    </tr>\n",
       "  </thead>\n",
       "  <tbody>\n",
       "    <tr>\n",
       "      <th>0</th>\n",
       "      <td>-1.0</td>\n",
       "      <td>0.0</td>\n",
       "      <td>0.0</td>\n",
       "      <td>0.0</td>\n",
       "      <td>0.0</td>\n",
       "      <td>0.000000</td>\n",
       "      <td>0.000000</td>\n",
       "      <td>0.0</td>\n",
       "      <td>0.0</td>\n",
       "      <td>1.0</td>\n",
       "      <td>...</td>\n",
       "      <td>0.0</td>\n",
       "      <td>0.0</td>\n",
       "      <td>0.0</td>\n",
       "      <td>0.0</td>\n",
       "      <td>0.0</td>\n",
       "      <td>0.0</td>\n",
       "      <td>0.0</td>\n",
       "      <td>0.0</td>\n",
       "      <td>0.0</td>\n",
       "      <td>0.0</td>\n",
       "    </tr>\n",
       "    <tr>\n",
       "      <th>1</th>\n",
       "      <td>-1.0</td>\n",
       "      <td>0.0</td>\n",
       "      <td>0.0</td>\n",
       "      <td>0.0</td>\n",
       "      <td>0.0</td>\n",
       "      <td>0.684794</td>\n",
       "      <td>0.728736</td>\n",
       "      <td>0.0</td>\n",
       "      <td>0.0</td>\n",
       "      <td>0.0</td>\n",
       "      <td>...</td>\n",
       "      <td>0.0</td>\n",
       "      <td>0.0</td>\n",
       "      <td>0.0</td>\n",
       "      <td>0.0</td>\n",
       "      <td>0.0</td>\n",
       "      <td>0.0</td>\n",
       "      <td>0.0</td>\n",
       "      <td>0.0</td>\n",
       "      <td>0.0</td>\n",
       "      <td>0.0</td>\n",
       "    </tr>\n",
       "    <tr>\n",
       "      <th>2</th>\n",
       "      <td>-1.0</td>\n",
       "      <td>0.0</td>\n",
       "      <td>0.0</td>\n",
       "      <td>0.0</td>\n",
       "      <td>0.0</td>\n",
       "      <td>0.000000</td>\n",
       "      <td>0.000000</td>\n",
       "      <td>0.0</td>\n",
       "      <td>0.0</td>\n",
       "      <td>0.0</td>\n",
       "      <td>...</td>\n",
       "      <td>0.0</td>\n",
       "      <td>0.0</td>\n",
       "      <td>0.0</td>\n",
       "      <td>0.0</td>\n",
       "      <td>0.0</td>\n",
       "      <td>0.0</td>\n",
       "      <td>0.0</td>\n",
       "      <td>0.0</td>\n",
       "      <td>0.0</td>\n",
       "      <td>0.0</td>\n",
       "    </tr>\n",
       "    <tr>\n",
       "      <th>3</th>\n",
       "      <td>-1.0</td>\n",
       "      <td>0.0</td>\n",
       "      <td>0.0</td>\n",
       "      <td>0.0</td>\n",
       "      <td>0.0</td>\n",
       "      <td>0.000000</td>\n",
       "      <td>0.000000</td>\n",
       "      <td>0.0</td>\n",
       "      <td>0.0</td>\n",
       "      <td>1.0</td>\n",
       "      <td>...</td>\n",
       "      <td>0.0</td>\n",
       "      <td>0.0</td>\n",
       "      <td>0.0</td>\n",
       "      <td>0.0</td>\n",
       "      <td>0.0</td>\n",
       "      <td>0.0</td>\n",
       "      <td>0.0</td>\n",
       "      <td>0.0</td>\n",
       "      <td>0.0</td>\n",
       "      <td>0.0</td>\n",
       "    </tr>\n",
       "    <tr>\n",
       "      <th>4</th>\n",
       "      <td>1.0</td>\n",
       "      <td>0.0</td>\n",
       "      <td>0.0</td>\n",
       "      <td>0.0</td>\n",
       "      <td>0.0</td>\n",
       "      <td>0.000000</td>\n",
       "      <td>0.000000</td>\n",
       "      <td>0.0</td>\n",
       "      <td>0.0</td>\n",
       "      <td>0.0</td>\n",
       "      <td>...</td>\n",
       "      <td>0.0</td>\n",
       "      <td>0.0</td>\n",
       "      <td>0.0</td>\n",
       "      <td>0.0</td>\n",
       "      <td>0.0</td>\n",
       "      <td>0.0</td>\n",
       "      <td>0.0</td>\n",
       "      <td>0.0</td>\n",
       "      <td>0.0</td>\n",
       "      <td>0.0</td>\n",
       "    </tr>\n",
       "  </tbody>\n",
       "</table>\n",
       "<p>5 rows × 26 columns</p>\n",
       "</div>"
      ],
      "text/plain": [
       "   label  lol  can  love  not      like       day  good  follow   no ...   \\\n",
       "0   -1.0  0.0  0.0   0.0  0.0  0.000000  0.000000   0.0     0.0  1.0 ...    \n",
       "1   -1.0  0.0  0.0   0.0  0.0  0.684794  0.728736   0.0     0.0  0.0 ...    \n",
       "2   -1.0  0.0  0.0   0.0  0.0  0.000000  0.000000   0.0     0.0  0.0 ...    \n",
       "3   -1.0  0.0  0.0   0.0  0.0  0.000000  0.000000   0.0     0.0  1.0 ...    \n",
       "4    1.0  0.0  0.0   0.0  0.0  0.000000  0.000000   0.0     0.0  0.0 ...    \n",
       "\n",
       "   thank  work  friend  happy  best  night  hope  beautiful  picture  fan  \n",
       "0    0.0   0.0     0.0    0.0   0.0    0.0   0.0        0.0      0.0  0.0  \n",
       "1    0.0   0.0     0.0    0.0   0.0    0.0   0.0        0.0      0.0  0.0  \n",
       "2    0.0   0.0     0.0    0.0   0.0    0.0   0.0        0.0      0.0  0.0  \n",
       "3    0.0   0.0     0.0    0.0   0.0    0.0   0.0        0.0      0.0  0.0  \n",
       "4    0.0   0.0     0.0    0.0   0.0    0.0   0.0        0.0      0.0  0.0  \n",
       "\n",
       "[5 rows x 26 columns]"
      ]
     },
     "execution_count": 323,
     "metadata": {},
     "output_type": "execute_result"
    }
   ],
   "source": [
    "training_data.head()"
   ]
  },
  {
   "cell_type": "code",
   "execution_count": 324,
   "metadata": {},
   "outputs": [
    {
     "data": {
      "text/plain": [
       "(196672, 26)"
      ]
     },
     "execution_count": 324,
     "metadata": {},
     "output_type": "execute_result"
    }
   ],
   "source": [
    "training_data.shape"
   ]
  },
  {
   "cell_type": "markdown",
   "metadata": {},
   "source": [
    " **Our data set is finally ready. Its sample size is 196672 and contains 25 features with the predicted variable (label). Let's save this in a npy file, in order to save us from computation time at each load**"
   ]
  },
  {
   "cell_type": "code",
   "execution_count": null,
   "metadata": {},
   "outputs": [],
   "source": [
    "training_data.to_pickle('training_data')"
   ]
  }
 ],
 "metadata": {
  "kernelspec": {
   "display_name": "Python [conda env:ada]",
   "language": "python",
   "name": "conda-env-ada-py"
  },
  "language_info": {
   "codemirror_mode": {
    "name": "ipython",
    "version": 3
   },
   "file_extension": ".py",
   "mimetype": "text/x-python",
   "name": "python",
   "nbconvert_exporter": "python",
   "pygments_lexer": "ipython3",
   "version": "3.6.6"
  }
 },
 "nbformat": 4,
 "nbformat_minor": 2
}
